{
 "cells": [
  {
   "cell_type": "markdown",
   "metadata": {},
   "source": [
    "## Predicting Population Changer with ONS Mortality Data"
   ]
  },
  {
   "cell_type": "markdown",
   "metadata": {},
   "source": [
    "## Script Output: Animated visualisation GIF that shows population change over time for a fictional town."
   ]
  },
  {
   "cell_type": "code",
   "execution_count": 1,
   "metadata": {},
   "outputs": [],
   "source": [
    "import pandas as pd\n",
    "import math"
   ]
  },
  {
   "cell_type": "markdown",
   "metadata": {},
   "source": [
    "## Name the directory you want to save the GIF visual to."
   ]
  },
  {
   "cell_type": "code",
   "execution_count": 2,
   "metadata": {},
   "outputs": [],
   "source": [
    "directory = 'C:/Users/steph/OneDrive/Documents/GitHub/MSc/'"
   ]
  },
  {
   "cell_type": "markdown",
   "metadata": {},
   "source": [
    "## Read in ONS mortality rates"
   ]
  },
  {
   "cell_type": "code",
   "execution_count": 3,
   "metadata": {},
   "outputs": [],
   "source": [
    "# Get the mortality rates of men from the ONS xlsx sheet\n",
    "mortality_rates = pd.read_excel('qxtimeseries.xlsx', sheet_name='UK Males qx', header = 4)\n",
    "mortality_rates_2019_male = mortality_rates[['age', '2017-2019']].copy()\n",
    "mortality_rates_2019_male.rename(columns={'age':'age',\"2017-2019\": \"2017-2019_Male\"}, inplace =True)"
   ]
  },
  {
   "cell_type": "code",
   "execution_count": 4,
   "metadata": {},
   "outputs": [],
   "source": [
    "# Get the mortality rates of wommen from the ONS xlsx sheet\n",
    "mortality_rates = pd.read_excel('qxtimeseries.xlsx', sheet_name='UK Females qx', header = 4)\n",
    "mortality_rates_2019_female = mortality_rates[['age', '2017-2019']].copy()\n",
    "mortality_rates_2019_female.rename(columns={'age':'age',\"2017-2019\": \"2017-2019_Female\"}, inplace =True)"
   ]
  },
  {
   "cell_type": "code",
   "execution_count": 5,
   "metadata": {
    "scrolled": false
   },
   "outputs": [
    {
     "data": {
      "text/html": [
       "<div>\n",
       "<style scoped>\n",
       "    .dataframe tbody tr th:only-of-type {\n",
       "        vertical-align: middle;\n",
       "    }\n",
       "\n",
       "    .dataframe tbody tr th {\n",
       "        vertical-align: top;\n",
       "    }\n",
       "\n",
       "    .dataframe thead th {\n",
       "        text-align: right;\n",
       "    }\n",
       "</style>\n",
       "<table border=\"1\" class=\"dataframe\">\n",
       "  <thead>\n",
       "    <tr style=\"text-align: right;\">\n",
       "      <th></th>\n",
       "      <th>age</th>\n",
       "      <th>2017-2019_Male</th>\n",
       "      <th>2017-2019_Female</th>\n",
       "    </tr>\n",
       "  </thead>\n",
       "  <tbody>\n",
       "    <tr>\n",
       "      <th>0</th>\n",
       "      <td>0</td>\n",
       "      <td>0.004267</td>\n",
       "      <td>0.003536</td>\n",
       "    </tr>\n",
       "    <tr>\n",
       "      <th>1</th>\n",
       "      <td>1</td>\n",
       "      <td>0.000243</td>\n",
       "      <td>0.000213</td>\n",
       "    </tr>\n",
       "    <tr>\n",
       "      <th>2</th>\n",
       "      <td>2</td>\n",
       "      <td>0.000132</td>\n",
       "      <td>0.000127</td>\n",
       "    </tr>\n",
       "    <tr>\n",
       "      <th>3</th>\n",
       "      <td>3</td>\n",
       "      <td>0.000101</td>\n",
       "      <td>0.000098</td>\n",
       "    </tr>\n",
       "    <tr>\n",
       "      <th>4</th>\n",
       "      <td>4</td>\n",
       "      <td>0.000097</td>\n",
       "      <td>0.000068</td>\n",
       "    </tr>\n",
       "    <tr>\n",
       "      <th>...</th>\n",
       "      <td>...</td>\n",
       "      <td>...</td>\n",
       "      <td>...</td>\n",
       "    </tr>\n",
       "    <tr>\n",
       "      <th>96</th>\n",
       "      <td>96</td>\n",
       "      <td>0.288494</td>\n",
       "      <td>0.251390</td>\n",
       "    </tr>\n",
       "    <tr>\n",
       "      <th>97</th>\n",
       "      <td>97</td>\n",
       "      <td>0.306274</td>\n",
       "      <td>0.268554</td>\n",
       "    </tr>\n",
       "    <tr>\n",
       "      <th>98</th>\n",
       "      <td>98</td>\n",
       "      <td>0.328778</td>\n",
       "      <td>0.294374</td>\n",
       "    </tr>\n",
       "    <tr>\n",
       "      <th>99</th>\n",
       "      <td>99</td>\n",
       "      <td>0.368071</td>\n",
       "      <td>0.315445</td>\n",
       "    </tr>\n",
       "    <tr>\n",
       "      <th>100</th>\n",
       "      <td>100</td>\n",
       "      <td>0.384730</td>\n",
       "      <td>0.351349</td>\n",
       "    </tr>\n",
       "  </tbody>\n",
       "</table>\n",
       "<p>101 rows × 3 columns</p>\n",
       "</div>"
      ],
      "text/plain": [
       "     age  2017-2019_Male  2017-2019_Female\n",
       "0      0        0.004267          0.003536\n",
       "1      1        0.000243          0.000213\n",
       "2      2        0.000132          0.000127\n",
       "3      3        0.000101          0.000098\n",
       "4      4        0.000097          0.000068\n",
       "..   ...             ...               ...\n",
       "96    96        0.288494          0.251390\n",
       "97    97        0.306274          0.268554\n",
       "98    98        0.328778          0.294374\n",
       "99    99        0.368071          0.315445\n",
       "100  100        0.384730          0.351349\n",
       "\n",
       "[101 rows x 3 columns]"
      ]
     },
     "execution_count": 5,
     "metadata": {},
     "output_type": "execute_result"
    }
   ],
   "source": [
    "#combine the male and female mortality rates\n",
    "mortality_rates = pd.merge( mortality_rates_2019_male, mortality_rates_2019_female, how = 'outer', on = 'age')\n",
    "mortality_rates"
   ]
  },
  {
   "cell_type": "code",
   "execution_count": 6,
   "metadata": {},
   "outputs": [],
   "source": [
    "# Get the current initial information for year 0"
   ]
  },
  {
   "cell_type": "markdown",
   "metadata": {},
   "source": [
    "## Read in some census data - (fabricated using Python Faker Library)"
   ]
  },
  {
   "cell_type": "code",
   "execution_count": null,
   "metadata": {},
   "outputs": [],
   "source": []
  },
  {
   "cell_type": "code",
   "execution_count": 7,
   "metadata": {},
   "outputs": [],
   "source": [
    "# Read in some census data - (fabricated using Python Faker Library)\n",
    "census_df = pd.read_csv('census_08_new.csv')"
   ]
  },
  {
   "cell_type": "code",
   "execution_count": 8,
   "metadata": {},
   "outputs": [
    {
     "data": {
      "text/html": [
       "<div>\n",
       "<style scoped>\n",
       "    .dataframe tbody tr th:only-of-type {\n",
       "        vertical-align: middle;\n",
       "    }\n",
       "\n",
       "    .dataframe tbody tr th {\n",
       "        vertical-align: top;\n",
       "    }\n",
       "\n",
       "    .dataframe thead th {\n",
       "        text-align: right;\n",
       "    }\n",
       "</style>\n",
       "<table border=\"1\" class=\"dataframe\">\n",
       "  <thead>\n",
       "    <tr style=\"text-align: right;\">\n",
       "      <th></th>\n",
       "      <th>House Number</th>\n",
       "      <th>Street</th>\n",
       "      <th>First Name</th>\n",
       "      <th>Surname</th>\n",
       "      <th>Age</th>\n",
       "      <th>Relationship to Head of House</th>\n",
       "      <th>Marital Status</th>\n",
       "      <th>Gender</th>\n",
       "      <th>Occupation</th>\n",
       "      <th>Infirmity</th>\n",
       "      <th>Religion</th>\n",
       "    </tr>\n",
       "  </thead>\n",
       "  <tbody>\n",
       "    <tr>\n",
       "      <th>7984</th>\n",
       "      <td>42</td>\n",
       "      <td>Shah Freeway</td>\n",
       "      <td>Ruth</td>\n",
       "      <td>Wilson</td>\n",
       "      <td>24</td>\n",
       "      <td>Head</td>\n",
       "      <td>Married</td>\n",
       "      <td>Female</td>\n",
       "      <td>Quality manager</td>\n",
       "      <td>None</td>\n",
       "      <td>Jewish</td>\n",
       "    </tr>\n",
       "    <tr>\n",
       "      <th>4652</th>\n",
       "      <td>2</td>\n",
       "      <td>Clayton Avenue</td>\n",
       "      <td>Fiona</td>\n",
       "      <td>Smith</td>\n",
       "      <td>41</td>\n",
       "      <td>Wife</td>\n",
       "      <td>Married</td>\n",
       "      <td>Female</td>\n",
       "      <td>General practice doctor</td>\n",
       "      <td>None</td>\n",
       "      <td>Catholic</td>\n",
       "    </tr>\n",
       "    <tr>\n",
       "      <th>4250</th>\n",
       "      <td>38</td>\n",
       "      <td>Mason Street</td>\n",
       "      <td>Danny</td>\n",
       "      <td>Norman</td>\n",
       "      <td>23</td>\n",
       "      <td>Husband</td>\n",
       "      <td>Married</td>\n",
       "      <td>Male</td>\n",
       "      <td>Unemployed</td>\n",
       "      <td>None</td>\n",
       "      <td>None</td>\n",
       "    </tr>\n",
       "    <tr>\n",
       "      <th>9629</th>\n",
       "      <td>25</td>\n",
       "      <td>Field Corner</td>\n",
       "      <td>Joan</td>\n",
       "      <td>Harper</td>\n",
       "      <td>25</td>\n",
       "      <td>Daughter</td>\n",
       "      <td>Single</td>\n",
       "      <td>Female</td>\n",
       "      <td>Doctor, hospital</td>\n",
       "      <td>None</td>\n",
       "      <td>None</td>\n",
       "    </tr>\n",
       "    <tr>\n",
       "      <th>10115</th>\n",
       "      <td>1</td>\n",
       "      <td>Trent Bastion</td>\n",
       "      <td>Maria</td>\n",
       "      <td>Jackson</td>\n",
       "      <td>33</td>\n",
       "      <td>Head</td>\n",
       "      <td>Married</td>\n",
       "      <td>Female</td>\n",
       "      <td>Estate agent</td>\n",
       "      <td>None</td>\n",
       "      <td>None</td>\n",
       "    </tr>\n",
       "    <tr>\n",
       "      <th>380</th>\n",
       "      <td>97</td>\n",
       "      <td>Woodward Street</td>\n",
       "      <td>Norman</td>\n",
       "      <td>Patterson</td>\n",
       "      <td>12</td>\n",
       "      <td>Son</td>\n",
       "      <td>NaN</td>\n",
       "      <td>Male</td>\n",
       "      <td>Student</td>\n",
       "      <td>None</td>\n",
       "      <td>NaN</td>\n",
       "    </tr>\n",
       "    <tr>\n",
       "      <th>7073</th>\n",
       "      <td>2</td>\n",
       "      <td>Sandy Squares</td>\n",
       "      <td>Michael</td>\n",
       "      <td>Jenkins</td>\n",
       "      <td>55</td>\n",
       "      <td>Husband</td>\n",
       "      <td>Married</td>\n",
       "      <td>Male</td>\n",
       "      <td>Physicist, medical</td>\n",
       "      <td>None</td>\n",
       "      <td>None</td>\n",
       "    </tr>\n",
       "    <tr>\n",
       "      <th>2299</th>\n",
       "      <td>96</td>\n",
       "      <td>Falcon Lane</td>\n",
       "      <td>Joanna</td>\n",
       "      <td>Roberts-Patel</td>\n",
       "      <td>30</td>\n",
       "      <td>Head</td>\n",
       "      <td>Married</td>\n",
       "      <td>Female</td>\n",
       "      <td>Programmer, systems</td>\n",
       "      <td>None</td>\n",
       "      <td>None</td>\n",
       "    </tr>\n",
       "    <tr>\n",
       "      <th>9078</th>\n",
       "      <td>12</td>\n",
       "      <td>Peninsula Road</td>\n",
       "      <td>Christine</td>\n",
       "      <td>Reynolds</td>\n",
       "      <td>44</td>\n",
       "      <td>Head</td>\n",
       "      <td>Single</td>\n",
       "      <td>Female</td>\n",
       "      <td>Chief Executive Officer</td>\n",
       "      <td>None</td>\n",
       "      <td>None</td>\n",
       "    </tr>\n",
       "    <tr>\n",
       "      <th>6585</th>\n",
       "      <td>18</td>\n",
       "      <td>Jones Lane</td>\n",
       "      <td>Jake</td>\n",
       "      <td>Watts</td>\n",
       "      <td>54</td>\n",
       "      <td>Husband</td>\n",
       "      <td>Married</td>\n",
       "      <td>Male</td>\n",
       "      <td>Arts administrator</td>\n",
       "      <td>None</td>\n",
       "      <td>Sikh</td>\n",
       "    </tr>\n",
       "  </tbody>\n",
       "</table>\n",
       "</div>"
      ],
      "text/plain": [
       "      House Number           Street First Name        Surname Age  \\\n",
       "7984            42     Shah Freeway       Ruth         Wilson  24   \n",
       "4652             2   Clayton Avenue      Fiona          Smith  41   \n",
       "4250            38     Mason Street      Danny         Norman  23   \n",
       "9629            25     Field Corner       Joan         Harper  25   \n",
       "10115            1    Trent Bastion      Maria        Jackson  33   \n",
       "380             97  Woodward Street     Norman      Patterson  12   \n",
       "7073             2    Sandy Squares    Michael        Jenkins  55   \n",
       "2299            96      Falcon Lane     Joanna  Roberts-Patel  30   \n",
       "9078            12   Peninsula Road  Christine       Reynolds  44   \n",
       "6585            18       Jones Lane       Jake          Watts  54   \n",
       "\n",
       "      Relationship to Head of House Marital Status  Gender  \\\n",
       "7984                           Head        Married  Female   \n",
       "4652                           Wife        Married  Female   \n",
       "4250                        Husband        Married    Male   \n",
       "9629                       Daughter         Single  Female   \n",
       "10115                          Head        Married  Female   \n",
       "380                             Son            NaN    Male   \n",
       "7073                        Husband        Married    Male   \n",
       "2299                           Head        Married  Female   \n",
       "9078                           Head         Single  Female   \n",
       "6585                        Husband        Married    Male   \n",
       "\n",
       "                    Occupation Infirmity  Religion  \n",
       "7984           Quality manager      None    Jewish  \n",
       "4652   General practice doctor      None  Catholic  \n",
       "4250                Unemployed      None      None  \n",
       "9629          Doctor, hospital      None      None  \n",
       "10115             Estate agent      None      None  \n",
       "380                    Student      None       NaN  \n",
       "7073        Physicist, medical      None      None  \n",
       "2299       Programmer, systems      None      None  \n",
       "9078   Chief Executive Officer      None      None  \n",
       "6585        Arts administrator      None      Sikh  "
      ]
     },
     "execution_count": 8,
     "metadata": {},
     "output_type": "execute_result"
    }
   ],
   "source": [
    "census_df.sample(10)"
   ]
  },
  {
   "cell_type": "code",
   "execution_count": 9,
   "metadata": {},
   "outputs": [
    {
     "data": {
      "text/plain": [
       "57.15935784    1\n",
       "109            1\n",
       "               1\n",
       "104            1\n",
       "2.2            1\n",
       "58.15935784    1\n",
       "4.5            1\n",
       "69.83970697    1\n",
       "81.98805985    1\n",
       "0.5            1\n",
       "Three          1\n",
       "One            1\n",
       "97             1\n",
       "84.98805985    1\n",
       "100            1\n",
       "Eight          1\n",
       "72.05604773    1\n",
       "74.05604773    1\n",
       "96             1\n",
       "-1             1\n",
       "400            1\n",
       "Name: Age, dtype: int64"
      ]
     },
     "execution_count": 9,
     "metadata": {},
     "output_type": "execute_result"
    }
   ],
   "source": [
    "# Problematic Ages\n",
    "census_df['Age'].value_counts().tail(21)"
   ]
  },
  {
   "cell_type": "markdown",
   "metadata": {},
   "source": [
    "# Clean the Ages Column"
   ]
  },
  {
   "cell_type": "code",
   "execution_count": 10,
   "metadata": {},
   "outputs": [],
   "source": [
    "# Script for converting text to string.\n",
    "\n",
    "census_df['Age'] = census_df['Age'].astype(str)\n",
    "\n",
    "census_df['Age'].value_counts().to_frame().tail(22)\n",
    "\n",
    "# Some variables used for cleaning instatiated here\n",
    "\n",
    "units = [\n",
    "        \"zero\", \"one\", \"two\", \"three\", \"four\", \"five\", \"six\", \"seven\", \"eight\",\n",
    "        \"nine\", \"ten\", \"eleven\", \"twelve\", \"thirteen\", \"fourteen\", \"fifteen\",\n",
    "        \"sixteen\", \"seventeen\", \"eighteen\", \"nineteen\",\n",
    "                ]\n",
    "\n",
    "tens = [\"\", \"\", \"twenty\", \"thirty\", \"forty\", \"fifty\", \"sixty\", \"seventy\", \"eighty\", \"ninety\"]\n",
    "\n",
    "scales = [\"hundred\", \"thousand\", \"million\", \"billion\", \"trillion\"]\n",
    "\n",
    "number_words = units + tens + scales\n",
    "\n",
    "# instantiate function for converting text age to numerical age\n",
    "\n",
    "def text2int(textnum, numwords={}):\n",
    "    \"\"\"\n",
    "    Input: textnum: This function takes in a a number written in english characters all lower case as a string:\n",
    "    Ouput: returns an integer value of the written number.\n",
    "    \n",
    "    \"\"\"\n",
    "    \n",
    "    if not numwords:\n",
    "        units = [\n",
    "                \"zero\", \"one\", \"two\", \"three\", \"four\", \"five\", \"six\", \"seven\", \"eight\",\n",
    "                \"nine\", \"ten\", \"eleven\", \"twelve\", \"thirteen\", \"fourteen\", \"fifteen\",\n",
    "                \"sixteen\", \"seventeen\", \"eighteen\", \"nineteen\",\n",
    "                ]\n",
    "\n",
    "        tens = [\"\", \"\", \"twenty\", \"thirty\", \"forty\", \"fifty\", \"sixty\", \"seventy\", \"eighty\", \"ninety\"]\n",
    "\n",
    "        scales = [\"hundred\", \"thousand\", \"million\", \"billion\", \"trillion\"]\n",
    "\n",
    "        numwords[\"and\"] = (1, 0)\n",
    "        for idx, word in enumerate(units):    numwords[word] = (1, idx)\n",
    "        for idx, word in enumerate(tens):     numwords[word] = (1, idx * 10)\n",
    "        for idx, word in enumerate(scales):   numwords[word] = (10 ** (idx * 3 or 2), 0)\n",
    "\n",
    "    current = result = 0\n",
    "    for word in textnum.split():\n",
    "        if word not in numwords:\n",
    "            raise Exception(\"Illegal word: \" + word)\n",
    "\n",
    "        scale, increment = numwords[word]\n",
    "        current = current * scale + increment\n",
    "        if scale > 100:\n",
    "            result += current\n",
    "            current = 0\n",
    "\n",
    "    return result + current"
   ]
  },
  {
   "cell_type": "code",
   "execution_count": 11,
   "metadata": {
    "scrolled": true
   },
   "outputs": [
    {
     "name": "stdout",
     "output_type": "stream",
     "text": [
      "400\n",
      "The last value/s to impute is/are: [' ']\n",
      "This can be done with the average age of all the other ages: 36\n",
      "400\n",
      " \n"
     ]
    },
    {
     "data": {
      "text/html": [
       "<div>\n",
       "<style scoped>\n",
       "    .dataframe tbody tr th:only-of-type {\n",
       "        vertical-align: middle;\n",
       "    }\n",
       "\n",
       "    .dataframe tbody tr th {\n",
       "        vertical-align: top;\n",
       "    }\n",
       "\n",
       "    .dataframe thead th {\n",
       "        text-align: right;\n",
       "    }\n",
       "</style>\n",
       "<table border=\"1\" class=\"dataframe\">\n",
       "  <thead>\n",
       "    <tr style=\"text-align: right;\">\n",
       "      <th></th>\n",
       "      <th>House Number</th>\n",
       "      <th>Street</th>\n",
       "      <th>First Name</th>\n",
       "      <th>Surname</th>\n",
       "      <th>Age</th>\n",
       "      <th>Relationship to Head of House</th>\n",
       "      <th>Marital Status</th>\n",
       "      <th>Gender</th>\n",
       "      <th>Occupation</th>\n",
       "      <th>Infirmity</th>\n",
       "      <th>Religion</th>\n",
       "    </tr>\n",
       "  </thead>\n",
       "  <tbody>\n",
       "    <tr>\n",
       "      <th>3415</th>\n",
       "      <td>21</td>\n",
       "      <td>Leisuretun Road</td>\n",
       "      <td>Katie</td>\n",
       "      <td>Lee</td>\n",
       "      <td>5</td>\n",
       "      <td>Daughter</td>\n",
       "      <td>nan</td>\n",
       "      <td>Female</td>\n",
       "      <td>Student</td>\n",
       "      <td>None</td>\n",
       "      <td>nan</td>\n",
       "    </tr>\n",
       "    <tr>\n",
       "      <th>8862</th>\n",
       "      <td>12</td>\n",
       "      <td>Albans Lane</td>\n",
       "      <td>Mohammed</td>\n",
       "      <td>Cox</td>\n",
       "      <td>64</td>\n",
       "      <td>Head</td>\n",
       "      <td>Married</td>\n",
       "      <td>Male</td>\n",
       "      <td>Information systems manager</td>\n",
       "      <td>None</td>\n",
       "      <td>None</td>\n",
       "    </tr>\n",
       "    <tr>\n",
       "      <th>2726</th>\n",
       "      <td>9</td>\n",
       "      <td>Taurusplace Drive</td>\n",
       "      <td>Dawn</td>\n",
       "      <td>Smith</td>\n",
       "      <td>16</td>\n",
       "      <td>Daughter</td>\n",
       "      <td>nan</td>\n",
       "      <td>Female</td>\n",
       "      <td>Student</td>\n",
       "      <td>None</td>\n",
       "      <td>nan</td>\n",
       "    </tr>\n",
       "    <tr>\n",
       "      <th>251</th>\n",
       "      <td>61</td>\n",
       "      <td>Woodward Street</td>\n",
       "      <td>Denise</td>\n",
       "      <td>Brady</td>\n",
       "      <td>21</td>\n",
       "      <td>Daughter</td>\n",
       "      <td>Single</td>\n",
       "      <td>Female</td>\n",
       "      <td>University Student</td>\n",
       "      <td>None</td>\n",
       "      <td>Christian</td>\n",
       "    </tr>\n",
       "    <tr>\n",
       "      <th>5008</th>\n",
       "      <td>10</td>\n",
       "      <td>Quayside Tunnel</td>\n",
       "      <td>Carolyn</td>\n",
       "      <td>King</td>\n",
       "      <td>69</td>\n",
       "      <td>Head</td>\n",
       "      <td>Widowed</td>\n",
       "      <td>Female</td>\n",
       "      <td>Retired Energy engineer</td>\n",
       "      <td>None</td>\n",
       "      <td>Christian</td>\n",
       "    </tr>\n",
       "  </tbody>\n",
       "</table>\n",
       "</div>"
      ],
      "text/plain": [
       "     House Number             Street First Name Surname  Age  \\\n",
       "3415           21    Leisuretun Road      Katie     Lee    5   \n",
       "8862           12        Albans Lane   Mohammed     Cox   64   \n",
       "2726            9  Taurusplace Drive       Dawn   Smith   16   \n",
       "251            61    Woodward Street     Denise   Brady   21   \n",
       "5008           10    Quayside Tunnel    Carolyn    King   69   \n",
       "\n",
       "     Relationship to Head of House Marital Status  Gender  \\\n",
       "3415                      Daughter            nan  Female   \n",
       "8862                          Head        Married    Male   \n",
       "2726                      Daughter            nan  Female   \n",
       "251                       Daughter         Single  Female   \n",
       "5008                          Head        Widowed  Female   \n",
       "\n",
       "                       Occupation Infirmity   Religion  \n",
       "3415                      Student      None        nan  \n",
       "8862  Information systems manager      None       None  \n",
       "2726                      Student      None        nan  \n",
       "251            University Student      None  Christian  \n",
       "5008      Retired Energy engineer      None  Christian  "
      ]
     },
     "execution_count": 11,
     "metadata": {},
     "output_type": "execute_result"
    }
   ],
   "source": [
    "# Dealing with impossible  ages\n",
    "\n",
    "# If the age contains a negative value, remove from data set!\n",
    "# Why? Because it is either an error or the human doesn't exist yet\n",
    "\n",
    "# Simple subset, cast and index reset (as we are removing a row the indexes will not automatically shift).\n",
    "census_df = census_df[~census_df.Age.str.contains(\"-\")]\n",
    "census_df = census_df.astype(str)\n",
    "census_df.reset_index(inplace=True, drop = True)\n",
    "\n",
    "# Dealing with float ages\n",
    "\n",
    "# The answers that are floats could represent one of two things, either a decimal point has been added in error, as in , ‘4.5’ meaning 45. Filtering for the presence of a point, ‘.’, and occupation not being ‘Child’ or 'Student' allows this to be imputed correctly. (As you don’t generally get employed children.)\n",
    "# Alternatively, it represents a partial year in which case the value is simply round down to the nearest integer with the math.floor function\n",
    "\n",
    "\n",
    "def split(word):\n",
    "    \"\"\"\n",
    "    A function that splits a word into a list of its contained characters\n",
    "    This is useful for detecting '.' values as Python typically sees '.' as placeholders, not periods. \n",
    "    \"\"\"\n",
    "    return [char for char in word]\n",
    "\n",
    "# Round all the floats down\n",
    "for i, age_string in enumerate(census_df['Age']):\n",
    "    \n",
    "\n",
    "    if ('.' in split(age_string)) and (census_df['Occupation'].iloc[i] != 'Child') and (census_df['Occupation'].iloc[i] != 'Student') and (len(split(age_string))==3):\n",
    "        census_df.at[i, 'Age'] = str(split(age_string)[0])+str(split(age_string)[2])\n",
    "    else:\n",
    "        try:\n",
    "            age_string = math.floor(float(age_string))\n",
    "            census_df.at[i, 'Age'] = str(age_string)\n",
    "        except ValueError:\n",
    "            pass\n",
    "    \n",
    "\n",
    "# Dealing with text ages\n",
    "# Using the beautiful function a few cells up to convert from text to integer, then temporarily for uniformity back into a string.\n",
    "\n",
    "# Show the non-numerical age values\n",
    "[x for x in census_df['Age'] if x.isdigit() == False]\n",
    "\n",
    "# Apply the function to every cell that contains a number word\n",
    "for i, age_string in enumerate(census_df['Age']):\n",
    "    \n",
    "    if age_string.lower() in number_words:\n",
    "        census_df.at[i, 'Age'] = str(text2int(age_string.lower()))\n",
    "    else:\n",
    "        pass\n",
    "\n",
    "# Dealing with impossible and missing ages\n",
    "\n",
    "# There is an age of 400 years old.\n",
    "\n",
    "# In this case we will impute with the average age along with missing ages\n",
    "\n",
    "# If the age exceeds the current world record of 122 years old impute with the average\n",
    "for i, age_string in enumerate(census_df['Age']):\n",
    "    try:\n",
    "        age_string = int(age_string)\n",
    "        if age_string >= 122:\n",
    "            print(age_string)\n",
    "    except:\n",
    "        pass\n",
    "\n",
    "# Dealing with missing/ ridiculous ages\n",
    "# At this point every string in the age column should be entirely numeric strings except the blank,  '   ', entry .\n",
    "# This can now be imputed with the average of all the other ages in the column\n",
    "\n",
    "print('The last value/s to impute is/are: '+str([x for x in census_df['Age'] if x.isdigit() == False]))\n",
    "\n",
    "# Getting the average value of all the purely numerical remaining strings in the df by subsetting for them\n",
    "temp = census_df[census_df.Age.str.isnumeric()].copy()\n",
    "\n",
    "# Ensure all values are integers- will return error if they aren't\n",
    "temp['Age'] = temp['Age'].astype(int)\n",
    "\n",
    "# Ensure all the values are below world record age by subsetting. Note this should leave the df unchanged at this point\n",
    "temp2 = temp[temp['Age'] <= 122]\n",
    "\n",
    "# Get the average\n",
    "avg_age = math.floor(temp2['Age'].mean())\n",
    "print(\"This can be done with the average age of all the other ages: \"+str(avg_age))\n",
    "\n",
    "# Test to see if the same is returned without subsetting for ages below 122, could reveal need for fruther investigation\n",
    "avg_age = math.floor(temp['Age'].mean())\n",
    "\n",
    "\n",
    "# Imputation with average\n",
    "for i, age_string in enumerate(census_df['Age']):\n",
    "    \n",
    "    if (age_string.isnumeric() is False) or (int(age_string) >122):\n",
    "        # Print values being imputed\n",
    "        print(age_string.lower())\n",
    "        census_df.at[i, 'Age'] = str(avg_age)\n",
    "    else:\n",
    "        pass\n",
    "\n",
    "# Convert the column to integer.\n",
    "# If this works without a type error it proves success.\n",
    "\n",
    "# Convert\n",
    "census_df['Age'] = census_df['Age'].astype(int)\n",
    "\n",
    "# Check type for int32\n",
    "census_df.dtypes\n",
    "\n",
    "# Inspect a sample of the data set\n",
    "census_df.sample(5)"
   ]
  },
  {
   "cell_type": "markdown",
   "metadata": {},
   "source": [
    "# Clean Gender Column Using API Get Request "
   ]
  },
  {
   "cell_type": "code",
   "execution_count": 12,
   "metadata": {},
   "outputs": [],
   "source": [
    "import requests\n",
    "\n",
    "# Iterate through every row by indexing them with the .at method labeling every row 'x'\n",
    "for x in range(len(census_df['Gender'])):\n",
    "    # If the string starts with an m assign string label 'male' to the cell\n",
    "    if census_df.at[x, 'Gender'].lower().startswith(\"m\"):\n",
    "        census_df.at[x, 'Gender'] = \"male\"\n",
    "        \n",
    "    # If the string starts with an f assign string label 'female' to the cell    \n",
    "    elif census_df.at[x, 'Gender'].lower().startswith(\"f\"):\n",
    "        census_df.at[x, 'Gender'] = \"female\"\n",
    "        \n",
    "    # If cell is something else use a get request to search for a individuals first name on https://genderize.io/\n",
    "    # Return a string of their most likely classification and assign it to the cell\n",
    "    # Else if sex left blank, alternatively a new class could be given, \"undisclosed\".\n",
    "    else:\n",
    "        response = requests.get(\"https://api.genderize.io?name=\"+census_df.at[x, 'First Name'])\n",
    "        census_df.at[x, 'Gender'] = response.json()['gender']\n"
   ]
  },
  {
   "cell_type": "markdown",
   "metadata": {},
   "source": [
    "# Model Population Change"
   ]
  },
  {
   "cell_type": "code",
   "execution_count": 13,
   "metadata": {
    "scrolled": false
   },
   "outputs": [
    {
     "data": {
      "text/html": [
       "<div>\n",
       "<style scoped>\n",
       "    .dataframe tbody tr th:only-of-type {\n",
       "        vertical-align: middle;\n",
       "    }\n",
       "\n",
       "    .dataframe tbody tr th {\n",
       "        vertical-align: top;\n",
       "    }\n",
       "\n",
       "    .dataframe thead th {\n",
       "        text-align: right;\n",
       "    }\n",
       "</style>\n",
       "<table border=\"1\" class=\"dataframe\">\n",
       "  <thead>\n",
       "    <tr style=\"text-align: right;\">\n",
       "      <th></th>\n",
       "      <th>Age</th>\n",
       "      <th>Gender</th>\n",
       "    </tr>\n",
       "  </thead>\n",
       "  <tbody>\n",
       "    <tr>\n",
       "      <th>0</th>\n",
       "      <td>72</td>\n",
       "      <td>female</td>\n",
       "    </tr>\n",
       "    <tr>\n",
       "      <th>1</th>\n",
       "      <td>23</td>\n",
       "      <td>female</td>\n",
       "    </tr>\n",
       "    <tr>\n",
       "      <th>2</th>\n",
       "      <td>25</td>\n",
       "      <td>male</td>\n",
       "    </tr>\n",
       "    <tr>\n",
       "      <th>3</th>\n",
       "      <td>44</td>\n",
       "      <td>female</td>\n",
       "    </tr>\n",
       "    <tr>\n",
       "      <th>4</th>\n",
       "      <td>47</td>\n",
       "      <td>male</td>\n",
       "    </tr>\n",
       "  </tbody>\n",
       "</table>\n",
       "</div>"
      ],
      "text/plain": [
       "   Age  Gender\n",
       "0   72  female\n",
       "1   23  female\n",
       "2   25    male\n",
       "3   44  female\n",
       "4   47    male"
      ]
     },
     "execution_count": 13,
     "metadata": {},
     "output_type": "execute_result"
    }
   ],
   "source": [
    "age_subset = census_df[['Age','Gender']].copy()\n",
    "age_subset.head()"
   ]
  },
  {
   "cell_type": "code",
   "execution_count": 14,
   "metadata": {},
   "outputs": [],
   "source": [
    "# Reset the index\n",
    "age_subset.reset_index(drop=True, inplace = True)"
   ]
  },
  {
   "cell_type": "code",
   "execution_count": 15,
   "metadata": {},
   "outputs": [],
   "source": [
    "# Make a function that models the number of birth in a year from the current years data set\n",
    "def get_births(df):\n",
    "    \"\"\"\n",
    "    This function takes in the census dataframe and outputs an integer number of babies born that year\n",
    "    for the women in a 10 year fertility window 25 to 34.\n",
    "    \"\"\"\n",
    "    birthrate = 1.65/10\n",
    "    females_fertile = len(     df[     (df['Age'] >= 25) &(df['Age'] < 35)& (df['Gender'] == 'female')]                )\n",
    "    new_babies = math.ceil(females_fertile * birthrate)\n",
    "    # Round up the the nearest even number, so even amount of boys and girls can be born\n",
    "    if new_babies % 2 == 0:\n",
    "        pass\n",
    "    else:\n",
    "        new_babies = new_babies+ 1\n",
    "    return new_babies"
   ]
  },
  {
   "cell_type": "markdown",
   "metadata": {},
   "source": [
    "# Note the cell below takes a long time to load"
   ]
  },
  {
   "cell_type": "markdown",
   "metadata": {},
   "source": [
    "## This is where the year on year modeling takes place fro 80 years into the future\n",
    "## - a data frame is added to a list for every year\n",
    "## - a list of tuples is also grown counting for births, deaths, retirees, and total population year-on-year"
   ]
  },
  {
   "cell_type": "code",
   "execution_count": 16,
   "metadata": {},
   "outputs": [
    {
     "name": "stdout",
     "output_type": "stream",
     "text": [
      "10297\n",
      "year: 0   babies born: 124   dead: 68\n",
      "10347\n",
      "year: 1   babies born: 118   dead: 84\n",
      "10379\n",
      "year: 2   babies born: 116   dead: 52\n",
      "10443\n",
      "year: 3   babies born: 116   dead: 67\n",
      "10492\n",
      "year: 4   babies born: 116   dead: 63\n",
      "10551\n",
      "year: 5   babies born: 122   dead: 56\n",
      "10615\n",
      "year: 6   babies born: 120   dead: 59\n",
      "10680\n",
      "year: 7   babies born: 124   dead: 78\n",
      "10730\n",
      "year: 8   babies born: 128   dead: 79\n",
      "10781\n",
      "year: 9   babies born: 130   dead: 80\n",
      "10831\n",
      "year: 10   babies born: 130   dead: 73\n",
      "10888\n",
      "year: 11   babies born: 130   dead: 89\n",
      "10929\n",
      "year: 12   babies born: 130   dead: 77\n",
      "10982\n",
      "year: 13   babies born: 130   dead: 88\n",
      "11024\n",
      "year: 14   babies born: 130   dead: 85\n",
      "11063\n",
      "year: 15   babies born: 124   dead: 94\n",
      "11091\n",
      "year: 16   babies born: 122   dead: 90\n",
      "11121\n",
      "year: 17   babies born: 120   dead: 97\n",
      "11140\n",
      "year: 18   babies born: 116   dead: 97\n",
      "11159\n",
      "year: 19   babies born: 116   dead: 94\n",
      "11181\n",
      "year: 20   babies born: 116   dead: 72\n",
      "11225\n",
      "year: 21   babies born: 116   dead: 112\n",
      "11225\n",
      "year: 22   babies born: 112   dead: 99\n",
      "11234\n",
      "year: 23   babies born: 108   dead: 108\n",
      "11230\n",
      "year: 24   babies born: 104   dead: 119\n",
      "11211\n",
      "year: 25   babies born: 100   dead: 104\n",
      "11207\n",
      "year: 26   babies born: 100   dead: 138\n",
      "11167\n",
      "year: 27   babies born: 98   dead: 125\n",
      "11140\n",
      "year: 28   babies born: 98   dead: 147\n",
      "11089\n",
      "year: 29   babies born: 96   dead: 122\n",
      "11059\n",
      "year: 30   babies born: 92   dead: 139\n",
      "11012\n",
      "year: 31   babies born: 92   dead: 134\n",
      "10970\n",
      "year: 32   babies born: 92   dead: 129\n",
      "10935\n",
      "year: 33   babies born: 94   dead: 145\n",
      "10886\n",
      "year: 34   babies born: 96   dead: 146\n",
      "10840\n",
      "year: 35   babies born: 100   dead: 143\n",
      "10799\n",
      "year: 36   babies born: 102   dead: 134\n",
      "10767\n",
      "year: 37   babies born: 102   dead: 144\n",
      "10727\n",
      "year: 38   babies born: 104   dead: 137\n",
      "10694\n",
      "year: 39   babies born: 104   dead: 150\n",
      "10650\n",
      "year: 40   babies born: 106   dead: 167\n",
      "10589\n",
      "year: 41   babies born: 106   dead: 166\n",
      "10529\n",
      "year: 42   babies born: 106   dead: 159\n",
      "10474\n",
      "year: 43   babies born: 104   dead: 143\n",
      "10435\n",
      "year: 44   babies born: 104   dead: 156\n",
      "10381\n",
      "year: 45   babies born: 102   dead: 154\n",
      "10329\n",
      "year: 46   babies born: 102   dead: 161\n",
      "10268\n",
      "year: 47   babies born: 100   dead: 164\n",
      "10204\n",
      "year: 48   babies born: 100   dead: 169\n",
      "10133\n",
      "year: 49   babies born: 98   dead: 183\n",
      "10046\n",
      "year: 50   babies born: 96   dead: 175\n",
      "9965\n",
      "year: 51   babies born: 94   dead: 171\n",
      "9886\n",
      "year: 52   babies born: 92   dead: 148\n",
      "9828\n",
      "year: 53   babies born: 90   dead: 158\n",
      "9758\n",
      "year: 54   babies born: 88   dead: 165\n",
      "9679\n",
      "year: 55   babies born: 86   dead: 141\n",
      "9622\n",
      "year: 56   babies born: 84   dead: 155\n",
      "9549\n",
      "year: 57   babies born: 82   dead: 165\n",
      "9464\n",
      "year: 58   babies born: 80   dead: 141\n",
      "9403\n",
      "year: 59   babies born: 80   dead: 147\n",
      "9336\n",
      "year: 60   babies born: 80   dead: 156\n",
      "9260\n",
      "year: 61   babies born: 80   dead: 126\n",
      "9214\n",
      "year: 62   babies born: 80   dead: 134\n",
      "9160\n",
      "year: 63   babies born: 80   dead: 141\n",
      "9099\n",
      "year: 64   babies born: 80   dead: 139\n",
      "9042\n",
      "year: 65   babies born: 82   dead: 157\n",
      "8967\n",
      "year: 66   babies born: 82   dead: 145\n",
      "8906\n",
      "year: 67   babies born: 84   dead: 160\n",
      "8830\n",
      "year: 68   babies born: 84   dead: 158\n",
      "8758\n",
      "year: 69   babies born: 86   dead: 132\n",
      "8712\n",
      "year: 70   babies born: 86   dead: 147\n",
      "8651\n",
      "year: 71   babies born: 86   dead: 132\n",
      "8605\n",
      "year: 72   babies born: 86   dead: 153\n",
      "8538\n",
      "year: 73   babies born: 86   dead: 181\n",
      "8443\n",
      "year: 74   babies born: 86   dead: 126\n",
      "8403\n",
      "year: 75   babies born: 86   dead: 134\n",
      "8353\n",
      "year: 76   babies born: 84   dead: 108\n"
     ]
    }
   ],
   "source": [
    "import random\n",
    "\n",
    "# make a list of dfs to append to in each years iteration over\n",
    "list_of_dfs = list()\n",
    "list_of_dfs.append(age_subset)\n",
    "\n",
    "\n",
    "# make a list of the pop counts\n",
    "list_of_pop_counts=list()\n",
    "\n",
    "# Totals list of tuples\n",
    "totals = list()\n",
    "\n",
    "for year in range(77):\n",
    "    \n",
    "    baby = get_births(age_subset)\n",
    "    \n",
    "    \n",
    "        #Add babies\n",
    "    \n",
    "    temp_baby_list = []\n",
    "\n",
    "    for x in range(int((baby)/2)):\n",
    "    \n",
    "        temp_baby_list.append([-1, 'male'])\n",
    "        temp_baby_list.append([-1, 'female'])\n",
    "    \n",
    "    \n",
    "    \n",
    "    baby_frame = pd.DataFrame(temp_baby_list,columns=['Age','Gender'])\n",
    "\n",
    "    age_subset  = age_subset.append(baby_frame, ignore_index = True).copy()\n",
    "    list_of_dfs.append(age_subset)\n",
    "    \n",
    "    age_subset.reset_index(drop=True, inplace = True)\n",
    "    \n",
    "    # add a year to all the ages\n",
    "    age_subset['Age'] = age_subset['Age'] + 1\n",
    "    \n",
    "    print(len(age_subset))\n",
    "    # Filter out the dead\n",
    "    \"\"\"age_subset = age_subset.nsmallest( (len(age_subset) -dead) , 'Age')\"\"\"\n",
    "    \n",
    "    \n",
    "    # get some values for the counts later assessment\n",
    "    sixty_six_or_over = len(age_subset[age_subset['Age']>=66])\n",
    "    total_pop = len(age_subset)\n",
    "    \n",
    "    # THE KILLING\n",
    "    list_to_kill = []\n",
    "    # For every person decide do get there age, get the mortality rate, and role the death dice\n",
    "    for index  ,  person in age_subset.iterrows():\n",
    "        if person['Age'] <=100:\n",
    "            age = person['Age']\n",
    "        else:\n",
    "            age = 100\n",
    "            \n",
    "        # Get the mortality rate\n",
    "        gender = person['Gender']\n",
    "        if gender == 'female':\n",
    "            death_rate = mortality_rates[mortality_rates['age']==age][\"2017-2019_Female\"].values[0]\n",
    "        elif gender == 'male':\n",
    "            death_rate = mortality_rates[mortality_rates['age']==age][\"2017-2019_Male\"].values[0]\n",
    "    \n",
    "        # Role the death dice\n",
    "        death_dice = random.random()\n",
    "        if death_dice < death_rate:\n",
    "            list_to_kill.append(index)    \n",
    "        else:\n",
    "            pass\n",
    "        \n",
    "    # Remove all the deceased in index from the list\n",
    "    age_subset = age_subset.drop(list_to_kill, axis = 0, errors = 'raise')\n",
    "    \n",
    "    # Print the outcomes\n",
    "    print(\"year: \" + str(year) + \"   babies born: \" + str(baby)  + \"   dead: \" + str(len(list_to_kill)))\n",
    "    \n",
    "    # Keep a track of the totals\n",
    "    totals.append((year,baby,len(list_to_kill),sixty_six_or_over,total_pop))\n",
    "\n"
   ]
  },
  {
   "cell_type": "markdown",
   "metadata": {},
   "source": [
    "# Note the cell below takes a long time to load"
   ]
  },
  {
   "cell_type": "markdown",
   "metadata": {},
   "source": [
    "# Make a gif of all the years to see the change over time"
   ]
  },
  {
   "cell_type": "code",
   "execution_count": 17,
   "metadata": {},
   "outputs": [
    {
     "name": "stderr",
     "output_type": "stream",
     "text": [
      "C:\\Users\\steph\\anaconda3\\lib\\site-packages\\ipykernel_launcher.py:19: RuntimeWarning: More than 20 figures have been opened. Figures created through the pyplot interface (`matplotlib.pyplot.figure`) are retained until explicitly closed and may consume too much memory. (To control this warning, see the rcParam `figure.max_open_warning`).\n",
      "C:\\Users\\steph\\anaconda3\\lib\\site-packages\\ipykernel_launcher.py:19: RuntimeWarning: More than 20 figures have been opened. Figures created through the pyplot interface (`matplotlib.pyplot.figure`) are retained until explicitly closed and may consume too much memory. (To control this warning, see the rcParam `figure.max_open_warning`).\n",
      "C:\\Users\\steph\\anaconda3\\lib\\site-packages\\ipykernel_launcher.py:19: RuntimeWarning: More than 20 figures have been opened. Figures created through the pyplot interface (`matplotlib.pyplot.figure`) are retained until explicitly closed and may consume too much memory. (To control this warning, see the rcParam `figure.max_open_warning`).\n",
      "C:\\Users\\steph\\anaconda3\\lib\\site-packages\\ipykernel_launcher.py:19: RuntimeWarning: More than 20 figures have been opened. Figures created through the pyplot interface (`matplotlib.pyplot.figure`) are retained until explicitly closed and may consume too much memory. (To control this warning, see the rcParam `figure.max_open_warning`).\n",
      "C:\\Users\\steph\\anaconda3\\lib\\site-packages\\ipykernel_launcher.py:19: RuntimeWarning: More than 20 figures have been opened. Figures created through the pyplot interface (`matplotlib.pyplot.figure`) are retained until explicitly closed and may consume too much memory. (To control this warning, see the rcParam `figure.max_open_warning`).\n",
      "C:\\Users\\steph\\anaconda3\\lib\\site-packages\\ipykernel_launcher.py:19: RuntimeWarning: More than 20 figures have been opened. Figures created through the pyplot interface (`matplotlib.pyplot.figure`) are retained until explicitly closed and may consume too much memory. (To control this warning, see the rcParam `figure.max_open_warning`).\n",
      "C:\\Users\\steph\\anaconda3\\lib\\site-packages\\ipykernel_launcher.py:19: RuntimeWarning: More than 20 figures have been opened. Figures created through the pyplot interface (`matplotlib.pyplot.figure`) are retained until explicitly closed and may consume too much memory. (To control this warning, see the rcParam `figure.max_open_warning`).\n",
      "C:\\Users\\steph\\anaconda3\\lib\\site-packages\\ipykernel_launcher.py:19: RuntimeWarning: More than 20 figures have been opened. Figures created through the pyplot interface (`matplotlib.pyplot.figure`) are retained until explicitly closed and may consume too much memory. (To control this warning, see the rcParam `figure.max_open_warning`).\n",
      "C:\\Users\\steph\\anaconda3\\lib\\site-packages\\ipykernel_launcher.py:19: RuntimeWarning: More than 20 figures have been opened. Figures created through the pyplot interface (`matplotlib.pyplot.figure`) are retained until explicitly closed and may consume too much memory. (To control this warning, see the rcParam `figure.max_open_warning`).\n",
      "C:\\Users\\steph\\anaconda3\\lib\\site-packages\\ipykernel_launcher.py:19: RuntimeWarning: More than 20 figures have been opened. Figures created through the pyplot interface (`matplotlib.pyplot.figure`) are retained until explicitly closed and may consume too much memory. (To control this warning, see the rcParam `figure.max_open_warning`).\n",
      "C:\\Users\\steph\\anaconda3\\lib\\site-packages\\ipykernel_launcher.py:19: RuntimeWarning: More than 20 figures have been opened. Figures created through the pyplot interface (`matplotlib.pyplot.figure`) are retained until explicitly closed and may consume too much memory. (To control this warning, see the rcParam `figure.max_open_warning`).\n",
      "C:\\Users\\steph\\anaconda3\\lib\\site-packages\\ipykernel_launcher.py:19: RuntimeWarning: More than 20 figures have been opened. Figures created through the pyplot interface (`matplotlib.pyplot.figure`) are retained until explicitly closed and may consume too much memory. (To control this warning, see the rcParam `figure.max_open_warning`).\n",
      "C:\\Users\\steph\\anaconda3\\lib\\site-packages\\ipykernel_launcher.py:19: RuntimeWarning: More than 20 figures have been opened. Figures created through the pyplot interface (`matplotlib.pyplot.figure`) are retained until explicitly closed and may consume too much memory. (To control this warning, see the rcParam `figure.max_open_warning`).\n",
      "C:\\Users\\steph\\anaconda3\\lib\\site-packages\\ipykernel_launcher.py:19: RuntimeWarning: More than 20 figures have been opened. Figures created through the pyplot interface (`matplotlib.pyplot.figure`) are retained until explicitly closed and may consume too much memory. (To control this warning, see the rcParam `figure.max_open_warning`).\n",
      "C:\\Users\\steph\\anaconda3\\lib\\site-packages\\ipykernel_launcher.py:19: RuntimeWarning: More than 20 figures have been opened. Figures created through the pyplot interface (`matplotlib.pyplot.figure`) are retained until explicitly closed and may consume too much memory. (To control this warning, see the rcParam `figure.max_open_warning`).\n",
      "C:\\Users\\steph\\anaconda3\\lib\\site-packages\\ipykernel_launcher.py:19: RuntimeWarning: More than 20 figures have been opened. Figures created through the pyplot interface (`matplotlib.pyplot.figure`) are retained until explicitly closed and may consume too much memory. (To control this warning, see the rcParam `figure.max_open_warning`).\n",
      "C:\\Users\\steph\\anaconda3\\lib\\site-packages\\ipykernel_launcher.py:19: RuntimeWarning: More than 20 figures have been opened. Figures created through the pyplot interface (`matplotlib.pyplot.figure`) are retained until explicitly closed and may consume too much memory. (To control this warning, see the rcParam `figure.max_open_warning`).\n",
      "C:\\Users\\steph\\anaconda3\\lib\\site-packages\\ipykernel_launcher.py:19: RuntimeWarning: More than 20 figures have been opened. Figures created through the pyplot interface (`matplotlib.pyplot.figure`) are retained until explicitly closed and may consume too much memory. (To control this warning, see the rcParam `figure.max_open_warning`).\n",
      "C:\\Users\\steph\\anaconda3\\lib\\site-packages\\ipykernel_launcher.py:19: RuntimeWarning: More than 20 figures have been opened. Figures created through the pyplot interface (`matplotlib.pyplot.figure`) are retained until explicitly closed and may consume too much memory. (To control this warning, see the rcParam `figure.max_open_warning`).\n",
      "C:\\Users\\steph\\anaconda3\\lib\\site-packages\\ipykernel_launcher.py:19: RuntimeWarning: More than 20 figures have been opened. Figures created through the pyplot interface (`matplotlib.pyplot.figure`) are retained until explicitly closed and may consume too much memory. (To control this warning, see the rcParam `figure.max_open_warning`).\n",
      "C:\\Users\\steph\\anaconda3\\lib\\site-packages\\ipykernel_launcher.py:19: RuntimeWarning: More than 20 figures have been opened. Figures created through the pyplot interface (`matplotlib.pyplot.figure`) are retained until explicitly closed and may consume too much memory. (To control this warning, see the rcParam `figure.max_open_warning`).\n",
      "C:\\Users\\steph\\anaconda3\\lib\\site-packages\\ipykernel_launcher.py:19: RuntimeWarning: More than 20 figures have been opened. Figures created through the pyplot interface (`matplotlib.pyplot.figure`) are retained until explicitly closed and may consume too much memory. (To control this warning, see the rcParam `figure.max_open_warning`).\n",
      "C:\\Users\\steph\\anaconda3\\lib\\site-packages\\ipykernel_launcher.py:19: RuntimeWarning: More than 20 figures have been opened. Figures created through the pyplot interface (`matplotlib.pyplot.figure`) are retained until explicitly closed and may consume too much memory. (To control this warning, see the rcParam `figure.max_open_warning`).\n",
      "C:\\Users\\steph\\anaconda3\\lib\\site-packages\\ipykernel_launcher.py:19: RuntimeWarning: More than 20 figures have been opened. Figures created through the pyplot interface (`matplotlib.pyplot.figure`) are retained until explicitly closed and may consume too much memory. (To control this warning, see the rcParam `figure.max_open_warning`).\n",
      "C:\\Users\\steph\\anaconda3\\lib\\site-packages\\ipykernel_launcher.py:19: RuntimeWarning: More than 20 figures have been opened. Figures created through the pyplot interface (`matplotlib.pyplot.figure`) are retained until explicitly closed and may consume too much memory. (To control this warning, see the rcParam `figure.max_open_warning`).\n"
     ]
    },
    {
     "name": "stderr",
     "output_type": "stream",
     "text": [
      "C:\\Users\\steph\\anaconda3\\lib\\site-packages\\ipykernel_launcher.py:19: RuntimeWarning: More than 20 figures have been opened. Figures created through the pyplot interface (`matplotlib.pyplot.figure`) are retained until explicitly closed and may consume too much memory. (To control this warning, see the rcParam `figure.max_open_warning`).\n",
      "C:\\Users\\steph\\anaconda3\\lib\\site-packages\\ipykernel_launcher.py:19: RuntimeWarning: More than 20 figures have been opened. Figures created through the pyplot interface (`matplotlib.pyplot.figure`) are retained until explicitly closed and may consume too much memory. (To control this warning, see the rcParam `figure.max_open_warning`).\n",
      "C:\\Users\\steph\\anaconda3\\lib\\site-packages\\ipykernel_launcher.py:19: RuntimeWarning: More than 20 figures have been opened. Figures created through the pyplot interface (`matplotlib.pyplot.figure`) are retained until explicitly closed and may consume too much memory. (To control this warning, see the rcParam `figure.max_open_warning`).\n",
      "C:\\Users\\steph\\anaconda3\\lib\\site-packages\\ipykernel_launcher.py:19: RuntimeWarning: More than 20 figures have been opened. Figures created through the pyplot interface (`matplotlib.pyplot.figure`) are retained until explicitly closed and may consume too much memory. (To control this warning, see the rcParam `figure.max_open_warning`).\n",
      "C:\\Users\\steph\\anaconda3\\lib\\site-packages\\ipykernel_launcher.py:19: RuntimeWarning: More than 20 figures have been opened. Figures created through the pyplot interface (`matplotlib.pyplot.figure`) are retained until explicitly closed and may consume too much memory. (To control this warning, see the rcParam `figure.max_open_warning`).\n",
      "C:\\Users\\steph\\anaconda3\\lib\\site-packages\\ipykernel_launcher.py:19: RuntimeWarning: More than 20 figures have been opened. Figures created through the pyplot interface (`matplotlib.pyplot.figure`) are retained until explicitly closed and may consume too much memory. (To control this warning, see the rcParam `figure.max_open_warning`).\n",
      "C:\\Users\\steph\\anaconda3\\lib\\site-packages\\ipykernel_launcher.py:19: RuntimeWarning: More than 20 figures have been opened. Figures created through the pyplot interface (`matplotlib.pyplot.figure`) are retained until explicitly closed and may consume too much memory. (To control this warning, see the rcParam `figure.max_open_warning`).\n",
      "C:\\Users\\steph\\anaconda3\\lib\\site-packages\\ipykernel_launcher.py:19: RuntimeWarning: More than 20 figures have been opened. Figures created through the pyplot interface (`matplotlib.pyplot.figure`) are retained until explicitly closed and may consume too much memory. (To control this warning, see the rcParam `figure.max_open_warning`).\n",
      "C:\\Users\\steph\\anaconda3\\lib\\site-packages\\ipykernel_launcher.py:19: RuntimeWarning: More than 20 figures have been opened. Figures created through the pyplot interface (`matplotlib.pyplot.figure`) are retained until explicitly closed and may consume too much memory. (To control this warning, see the rcParam `figure.max_open_warning`).\n",
      "C:\\Users\\steph\\anaconda3\\lib\\site-packages\\ipykernel_launcher.py:19: RuntimeWarning: More than 20 figures have been opened. Figures created through the pyplot interface (`matplotlib.pyplot.figure`) are retained until explicitly closed and may consume too much memory. (To control this warning, see the rcParam `figure.max_open_warning`).\n",
      "C:\\Users\\steph\\anaconda3\\lib\\site-packages\\ipykernel_launcher.py:19: RuntimeWarning: More than 20 figures have been opened. Figures created through the pyplot interface (`matplotlib.pyplot.figure`) are retained until explicitly closed and may consume too much memory. (To control this warning, see the rcParam `figure.max_open_warning`).\n",
      "C:\\Users\\steph\\anaconda3\\lib\\site-packages\\ipykernel_launcher.py:19: RuntimeWarning: More than 20 figures have been opened. Figures created through the pyplot interface (`matplotlib.pyplot.figure`) are retained until explicitly closed and may consume too much memory. (To control this warning, see the rcParam `figure.max_open_warning`).\n",
      "C:\\Users\\steph\\anaconda3\\lib\\site-packages\\ipykernel_launcher.py:19: RuntimeWarning: More than 20 figures have been opened. Figures created through the pyplot interface (`matplotlib.pyplot.figure`) are retained until explicitly closed and may consume too much memory. (To control this warning, see the rcParam `figure.max_open_warning`).\n",
      "C:\\Users\\steph\\anaconda3\\lib\\site-packages\\ipykernel_launcher.py:19: RuntimeWarning: More than 20 figures have been opened. Figures created through the pyplot interface (`matplotlib.pyplot.figure`) are retained until explicitly closed and may consume too much memory. (To control this warning, see the rcParam `figure.max_open_warning`).\n",
      "C:\\Users\\steph\\anaconda3\\lib\\site-packages\\ipykernel_launcher.py:19: RuntimeWarning: More than 20 figures have been opened. Figures created through the pyplot interface (`matplotlib.pyplot.figure`) are retained until explicitly closed and may consume too much memory. (To control this warning, see the rcParam `figure.max_open_warning`).\n",
      "C:\\Users\\steph\\anaconda3\\lib\\site-packages\\ipykernel_launcher.py:19: RuntimeWarning: More than 20 figures have been opened. Figures created through the pyplot interface (`matplotlib.pyplot.figure`) are retained until explicitly closed and may consume too much memory. (To control this warning, see the rcParam `figure.max_open_warning`).\n",
      "C:\\Users\\steph\\anaconda3\\lib\\site-packages\\ipykernel_launcher.py:19: RuntimeWarning: More than 20 figures have been opened. Figures created through the pyplot interface (`matplotlib.pyplot.figure`) are retained until explicitly closed and may consume too much memory. (To control this warning, see the rcParam `figure.max_open_warning`).\n",
      "C:\\Users\\steph\\anaconda3\\lib\\site-packages\\ipykernel_launcher.py:19: RuntimeWarning: More than 20 figures have been opened. Figures created through the pyplot interface (`matplotlib.pyplot.figure`) are retained until explicitly closed and may consume too much memory. (To control this warning, see the rcParam `figure.max_open_warning`).\n",
      "C:\\Users\\steph\\anaconda3\\lib\\site-packages\\ipykernel_launcher.py:19: RuntimeWarning: More than 20 figures have been opened. Figures created through the pyplot interface (`matplotlib.pyplot.figure`) are retained until explicitly closed and may consume too much memory. (To control this warning, see the rcParam `figure.max_open_warning`).\n",
      "C:\\Users\\steph\\anaconda3\\lib\\site-packages\\ipykernel_launcher.py:19: RuntimeWarning: More than 20 figures have been opened. Figures created through the pyplot interface (`matplotlib.pyplot.figure`) are retained until explicitly closed and may consume too much memory. (To control this warning, see the rcParam `figure.max_open_warning`).\n",
      "C:\\Users\\steph\\anaconda3\\lib\\site-packages\\ipykernel_launcher.py:19: RuntimeWarning: More than 20 figures have been opened. Figures created through the pyplot interface (`matplotlib.pyplot.figure`) are retained until explicitly closed and may consume too much memory. (To control this warning, see the rcParam `figure.max_open_warning`).\n",
      "C:\\Users\\steph\\anaconda3\\lib\\site-packages\\ipykernel_launcher.py:19: RuntimeWarning: More than 20 figures have been opened. Figures created through the pyplot interface (`matplotlib.pyplot.figure`) are retained until explicitly closed and may consume too much memory. (To control this warning, see the rcParam `figure.max_open_warning`).\n",
      "C:\\Users\\steph\\anaconda3\\lib\\site-packages\\ipykernel_launcher.py:19: RuntimeWarning: More than 20 figures have been opened. Figures created through the pyplot interface (`matplotlib.pyplot.figure`) are retained until explicitly closed and may consume too much memory. (To control this warning, see the rcParam `figure.max_open_warning`).\n",
      "C:\\Users\\steph\\anaconda3\\lib\\site-packages\\ipykernel_launcher.py:19: RuntimeWarning: More than 20 figures have been opened. Figures created through the pyplot interface (`matplotlib.pyplot.figure`) are retained until explicitly closed and may consume too much memory. (To control this warning, see the rcParam `figure.max_open_warning`).\n",
      "C:\\Users\\steph\\anaconda3\\lib\\site-packages\\ipykernel_launcher.py:19: RuntimeWarning: More than 20 figures have been opened. Figures created through the pyplot interface (`matplotlib.pyplot.figure`) are retained until explicitly closed and may consume too much memory. (To control this warning, see the rcParam `figure.max_open_warning`).\n"
     ]
    },
    {
     "name": "stderr",
     "output_type": "stream",
     "text": [
      "C:\\Users\\steph\\anaconda3\\lib\\site-packages\\ipykernel_launcher.py:19: RuntimeWarning: More than 20 figures have been opened. Figures created through the pyplot interface (`matplotlib.pyplot.figure`) are retained until explicitly closed and may consume too much memory. (To control this warning, see the rcParam `figure.max_open_warning`).\n",
      "C:\\Users\\steph\\anaconda3\\lib\\site-packages\\ipykernel_launcher.py:19: RuntimeWarning: More than 20 figures have been opened. Figures created through the pyplot interface (`matplotlib.pyplot.figure`) are retained until explicitly closed and may consume too much memory. (To control this warning, see the rcParam `figure.max_open_warning`).\n",
      "C:\\Users\\steph\\anaconda3\\lib\\site-packages\\ipykernel_launcher.py:19: RuntimeWarning: More than 20 figures have been opened. Figures created through the pyplot interface (`matplotlib.pyplot.figure`) are retained until explicitly closed and may consume too much memory. (To control this warning, see the rcParam `figure.max_open_warning`).\n",
      "C:\\Users\\steph\\anaconda3\\lib\\site-packages\\ipykernel_launcher.py:19: RuntimeWarning: More than 20 figures have been opened. Figures created through the pyplot interface (`matplotlib.pyplot.figure`) are retained until explicitly closed and may consume too much memory. (To control this warning, see the rcParam `figure.max_open_warning`).\n",
      "C:\\Users\\steph\\anaconda3\\lib\\site-packages\\ipykernel_launcher.py:19: RuntimeWarning: More than 20 figures have been opened. Figures created through the pyplot interface (`matplotlib.pyplot.figure`) are retained until explicitly closed and may consume too much memory. (To control this warning, see the rcParam `figure.max_open_warning`).\n",
      "C:\\Users\\steph\\anaconda3\\lib\\site-packages\\ipykernel_launcher.py:19: RuntimeWarning: More than 20 figures have been opened. Figures created through the pyplot interface (`matplotlib.pyplot.figure`) are retained until explicitly closed and may consume too much memory. (To control this warning, see the rcParam `figure.max_open_warning`).\n",
      "C:\\Users\\steph\\anaconda3\\lib\\site-packages\\ipykernel_launcher.py:19: RuntimeWarning: More than 20 figures have been opened. Figures created through the pyplot interface (`matplotlib.pyplot.figure`) are retained until explicitly closed and may consume too much memory. (To control this warning, see the rcParam `figure.max_open_warning`).\n",
      "C:\\Users\\steph\\anaconda3\\lib\\site-packages\\ipykernel_launcher.py:19: RuntimeWarning: More than 20 figures have been opened. Figures created through the pyplot interface (`matplotlib.pyplot.figure`) are retained until explicitly closed and may consume too much memory. (To control this warning, see the rcParam `figure.max_open_warning`).\n"
     ]
    },
    {
     "data": {
      "text/plain": [
       "<Figure size 864x864 with 0 Axes>"
      ]
     },
     "metadata": {},
     "output_type": "display_data"
    },
    {
     "data": {
      "text/plain": [
       "<Figure size 864x864 with 0 Axes>"
      ]
     },
     "metadata": {},
     "output_type": "display_data"
    },
    {
     "data": {
      "text/plain": [
       "<Figure size 864x864 with 0 Axes>"
      ]
     },
     "metadata": {},
     "output_type": "display_data"
    },
    {
     "data": {
      "text/plain": [
       "<Figure size 864x864 with 0 Axes>"
      ]
     },
     "metadata": {},
     "output_type": "display_data"
    },
    {
     "data": {
      "text/plain": [
       "<Figure size 864x864 with 0 Axes>"
      ]
     },
     "metadata": {},
     "output_type": "display_data"
    },
    {
     "data": {
      "text/plain": [
       "<Figure size 864x864 with 0 Axes>"
      ]
     },
     "metadata": {},
     "output_type": "display_data"
    },
    {
     "data": {
      "text/plain": [
       "<Figure size 864x864 with 0 Axes>"
      ]
     },
     "metadata": {},
     "output_type": "display_data"
    },
    {
     "data": {
      "text/plain": [
       "<Figure size 864x864 with 0 Axes>"
      ]
     },
     "metadata": {},
     "output_type": "display_data"
    },
    {
     "data": {
      "text/plain": [
       "<Figure size 864x864 with 0 Axes>"
      ]
     },
     "metadata": {},
     "output_type": "display_data"
    },
    {
     "data": {
      "text/plain": [
       "<Figure size 864x864 with 0 Axes>"
      ]
     },
     "metadata": {},
     "output_type": "display_data"
    },
    {
     "data": {
      "text/plain": [
       "<Figure size 864x864 with 0 Axes>"
      ]
     },
     "metadata": {},
     "output_type": "display_data"
    },
    {
     "data": {
      "text/plain": [
       "<Figure size 864x864 with 0 Axes>"
      ]
     },
     "metadata": {},
     "output_type": "display_data"
    },
    {
     "data": {
      "text/plain": [
       "<Figure size 864x864 with 0 Axes>"
      ]
     },
     "metadata": {},
     "output_type": "display_data"
    },
    {
     "data": {
      "text/plain": [
       "<Figure size 864x864 with 0 Axes>"
      ]
     },
     "metadata": {},
     "output_type": "display_data"
    },
    {
     "data": {
      "text/plain": [
       "<Figure size 864x864 with 0 Axes>"
      ]
     },
     "metadata": {},
     "output_type": "display_data"
    },
    {
     "data": {
      "text/plain": [
       "<Figure size 864x864 with 0 Axes>"
      ]
     },
     "metadata": {},
     "output_type": "display_data"
    },
    {
     "data": {
      "text/plain": [
       "<Figure size 864x864 with 0 Axes>"
      ]
     },
     "metadata": {},
     "output_type": "display_data"
    },
    {
     "data": {
      "text/plain": [
       "<Figure size 864x864 with 0 Axes>"
      ]
     },
     "metadata": {},
     "output_type": "display_data"
    },
    {
     "data": {
      "text/plain": [
       "<Figure size 864x864 with 0 Axes>"
      ]
     },
     "metadata": {},
     "output_type": "display_data"
    },
    {
     "data": {
      "text/plain": [
       "<Figure size 864x864 with 0 Axes>"
      ]
     },
     "metadata": {},
     "output_type": "display_data"
    },
    {
     "data": {
      "text/plain": [
       "<Figure size 864x864 with 0 Axes>"
      ]
     },
     "metadata": {},
     "output_type": "display_data"
    },
    {
     "data": {
      "text/plain": [
       "<Figure size 864x864 with 0 Axes>"
      ]
     },
     "metadata": {},
     "output_type": "display_data"
    },
    {
     "data": {
      "text/plain": [
       "<Figure size 864x864 with 0 Axes>"
      ]
     },
     "metadata": {},
     "output_type": "display_data"
    },
    {
     "data": {
      "text/plain": [
       "<Figure size 864x864 with 0 Axes>"
      ]
     },
     "metadata": {},
     "output_type": "display_data"
    },
    {
     "data": {
      "text/plain": [
       "<Figure size 864x864 with 0 Axes>"
      ]
     },
     "metadata": {},
     "output_type": "display_data"
    },
    {
     "data": {
      "text/plain": [
       "<Figure size 864x864 with 0 Axes>"
      ]
     },
     "metadata": {},
     "output_type": "display_data"
    },
    {
     "data": {
      "text/plain": [
       "<Figure size 864x864 with 0 Axes>"
      ]
     },
     "metadata": {},
     "output_type": "display_data"
    },
    {
     "data": {
      "text/plain": [
       "<Figure size 864x864 with 0 Axes>"
      ]
     },
     "metadata": {},
     "output_type": "display_data"
    },
    {
     "data": {
      "text/plain": [
       "<Figure size 864x864 with 0 Axes>"
      ]
     },
     "metadata": {},
     "output_type": "display_data"
    },
    {
     "data": {
      "text/plain": [
       "<Figure size 864x864 with 0 Axes>"
      ]
     },
     "metadata": {},
     "output_type": "display_data"
    },
    {
     "data": {
      "text/plain": [
       "<Figure size 864x864 with 0 Axes>"
      ]
     },
     "metadata": {},
     "output_type": "display_data"
    },
    {
     "data": {
      "text/plain": [
       "<Figure size 864x864 with 0 Axes>"
      ]
     },
     "metadata": {},
     "output_type": "display_data"
    },
    {
     "data": {
      "text/plain": [
       "<Figure size 864x864 with 0 Axes>"
      ]
     },
     "metadata": {},
     "output_type": "display_data"
    },
    {
     "data": {
      "text/plain": [
       "<Figure size 864x864 with 0 Axes>"
      ]
     },
     "metadata": {},
     "output_type": "display_data"
    },
    {
     "data": {
      "text/plain": [
       "<Figure size 864x864 with 0 Axes>"
      ]
     },
     "metadata": {},
     "output_type": "display_data"
    },
    {
     "data": {
      "text/plain": [
       "<Figure size 864x864 with 0 Axes>"
      ]
     },
     "metadata": {},
     "output_type": "display_data"
    },
    {
     "data": {
      "text/plain": [
       "<Figure size 864x864 with 0 Axes>"
      ]
     },
     "metadata": {},
     "output_type": "display_data"
    },
    {
     "data": {
      "text/plain": [
       "<Figure size 864x864 with 0 Axes>"
      ]
     },
     "metadata": {},
     "output_type": "display_data"
    },
    {
     "data": {
      "text/plain": [
       "<Figure size 864x864 with 0 Axes>"
      ]
     },
     "metadata": {},
     "output_type": "display_data"
    },
    {
     "data": {
      "text/plain": [
       "<Figure size 864x864 with 0 Axes>"
      ]
     },
     "metadata": {},
     "output_type": "display_data"
    },
    {
     "data": {
      "text/plain": [
       "<Figure size 864x864 with 0 Axes>"
      ]
     },
     "metadata": {},
     "output_type": "display_data"
    },
    {
     "data": {
      "text/plain": [
       "<Figure size 864x864 with 0 Axes>"
      ]
     },
     "metadata": {},
     "output_type": "display_data"
    },
    {
     "data": {
      "text/plain": [
       "<Figure size 864x864 with 0 Axes>"
      ]
     },
     "metadata": {},
     "output_type": "display_data"
    },
    {
     "data": {
      "text/plain": [
       "<Figure size 864x864 with 0 Axes>"
      ]
     },
     "metadata": {},
     "output_type": "display_data"
    },
    {
     "data": {
      "text/plain": [
       "<Figure size 864x864 with 0 Axes>"
      ]
     },
     "metadata": {},
     "output_type": "display_data"
    },
    {
     "data": {
      "text/plain": [
       "<Figure size 864x864 with 0 Axes>"
      ]
     },
     "metadata": {},
     "output_type": "display_data"
    },
    {
     "data": {
      "text/plain": [
       "<Figure size 864x864 with 0 Axes>"
      ]
     },
     "metadata": {},
     "output_type": "display_data"
    },
    {
     "data": {
      "text/plain": [
       "<Figure size 864x864 with 0 Axes>"
      ]
     },
     "metadata": {},
     "output_type": "display_data"
    },
    {
     "data": {
      "text/plain": [
       "<Figure size 864x864 with 0 Axes>"
      ]
     },
     "metadata": {},
     "output_type": "display_data"
    },
    {
     "data": {
      "text/plain": [
       "<Figure size 864x864 with 0 Axes>"
      ]
     },
     "metadata": {},
     "output_type": "display_data"
    },
    {
     "data": {
      "text/plain": [
       "<Figure size 864x864 with 0 Axes>"
      ]
     },
     "metadata": {},
     "output_type": "display_data"
    },
    {
     "data": {
      "text/plain": [
       "<Figure size 864x864 with 0 Axes>"
      ]
     },
     "metadata": {},
     "output_type": "display_data"
    },
    {
     "data": {
      "text/plain": [
       "<Figure size 864x864 with 0 Axes>"
      ]
     },
     "metadata": {},
     "output_type": "display_data"
    },
    {
     "data": {
      "text/plain": [
       "<Figure size 864x864 with 0 Axes>"
      ]
     },
     "metadata": {},
     "output_type": "display_data"
    },
    {
     "data": {
      "text/plain": [
       "<Figure size 864x864 with 0 Axes>"
      ]
     },
     "metadata": {},
     "output_type": "display_data"
    },
    {
     "data": {
      "text/plain": [
       "<Figure size 864x864 with 0 Axes>"
      ]
     },
     "metadata": {},
     "output_type": "display_data"
    },
    {
     "data": {
      "text/plain": [
       "<Figure size 864x864 with 0 Axes>"
      ]
     },
     "metadata": {},
     "output_type": "display_data"
    },
    {
     "data": {
      "text/plain": [
       "<Figure size 864x864 with 0 Axes>"
      ]
     },
     "metadata": {},
     "output_type": "display_data"
    },
    {
     "data": {
      "text/plain": [
       "<Figure size 864x864 with 0 Axes>"
      ]
     },
     "metadata": {},
     "output_type": "display_data"
    },
    {
     "data": {
      "text/plain": [
       "<Figure size 864x864 with 0 Axes>"
      ]
     },
     "metadata": {},
     "output_type": "display_data"
    },
    {
     "data": {
      "text/plain": [
       "<Figure size 864x864 with 0 Axes>"
      ]
     },
     "metadata": {},
     "output_type": "display_data"
    },
    {
     "data": {
      "text/plain": [
       "<Figure size 864x864 with 0 Axes>"
      ]
     },
     "metadata": {},
     "output_type": "display_data"
    },
    {
     "data": {
      "text/plain": [
       "<Figure size 864x864 with 0 Axes>"
      ]
     },
     "metadata": {},
     "output_type": "display_data"
    },
    {
     "data": {
      "text/plain": [
       "<Figure size 864x864 with 0 Axes>"
      ]
     },
     "metadata": {},
     "output_type": "display_data"
    },
    {
     "data": {
      "text/plain": [
       "<Figure size 864x864 with 0 Axes>"
      ]
     },
     "metadata": {},
     "output_type": "display_data"
    },
    {
     "data": {
      "text/plain": [
       "<Figure size 864x864 with 0 Axes>"
      ]
     },
     "metadata": {},
     "output_type": "display_data"
    },
    {
     "data": {
      "text/plain": [
       "<Figure size 864x864 with 0 Axes>"
      ]
     },
     "metadata": {},
     "output_type": "display_data"
    },
    {
     "data": {
      "text/plain": [
       "<Figure size 864x864 with 0 Axes>"
      ]
     },
     "metadata": {},
     "output_type": "display_data"
    },
    {
     "data": {
      "text/plain": [
       "<Figure size 864x864 with 0 Axes>"
      ]
     },
     "metadata": {},
     "output_type": "display_data"
    },
    {
     "data": {
      "text/plain": [
       "<Figure size 864x864 with 0 Axes>"
      ]
     },
     "metadata": {},
     "output_type": "display_data"
    },
    {
     "data": {
      "text/plain": [
       "<Figure size 864x864 with 0 Axes>"
      ]
     },
     "metadata": {},
     "output_type": "display_data"
    },
    {
     "data": {
      "text/plain": [
       "<Figure size 864x864 with 0 Axes>"
      ]
     },
     "metadata": {},
     "output_type": "display_data"
    },
    {
     "data": {
      "text/plain": [
       "<Figure size 864x864 with 0 Axes>"
      ]
     },
     "metadata": {},
     "output_type": "display_data"
    },
    {
     "data": {
      "text/plain": [
       "<Figure size 864x864 with 0 Axes>"
      ]
     },
     "metadata": {},
     "output_type": "display_data"
    },
    {
     "data": {
      "text/plain": [
       "<Figure size 864x864 with 0 Axes>"
      ]
     },
     "metadata": {},
     "output_type": "display_data"
    },
    {
     "data": {
      "text/plain": [
       "<Figure size 864x864 with 0 Axes>"
      ]
     },
     "metadata": {},
     "output_type": "display_data"
    },
    {
     "data": {
      "text/plain": [
       "<Figure size 864x864 with 0 Axes>"
      ]
     },
     "metadata": {},
     "output_type": "display_data"
    },
    {
     "data": {
      "text/plain": [
       "<Figure size 864x864 with 0 Axes>"
      ]
     },
     "metadata": {},
     "output_type": "display_data"
    }
   ],
   "source": [
    "# Make a gif of all the years to see the chaneg over time\n",
    "# Make sure to include an underlay of the original year\n",
    "import matplotlib.pyplot as plt\n",
    "import seaborn as sns\n",
    "sns.set(rc={'figure.figsize':(12,12)})\n",
    "\n",
    "# done by making a png of every years dataframe made in previous cell\n",
    "# then compiling into GIF\n",
    "# then deleting all the pngs used to make the gif\n",
    "\n",
    "\n",
    "# Make a list of file names\n",
    "\n",
    "filenames = []\n",
    "\n",
    "\n",
    "for x in range(len(list_of_dfs)):\n",
    "    \n",
    "    fig, ax = plt.subplots()\n",
    "    sns.histplot(x = list_of_dfs[x]['Age'], binwidth = 10, discrete = True)\n",
    "    sns.histplot(x = list_of_dfs[0]['Age'], binwidth = 10, alpha = 0.2, color = 'r', linewidth=0, discrete = True)\n",
    "    ax.set_xlim(0,120)\n",
    "    ax.set_ylim(0,259)\n",
    "\n",
    "    plt.text(60, 210,\n",
    "             \"Year: 20\"+str(x+21),\n",
    "             horizontalalignment='left',\n",
    "             size='large',\n",
    "             color='black',\n",
    "             weight='semibold',\n",
    "             fontsize = 50)\n",
    "    \n",
    "    plt.text(10, 200,\n",
    "             \"Year: 2021\",\n",
    "             horizontalalignment='left',\n",
    "             size='large',\n",
    "             color='r',\n",
    "             weight='semibold',\n",
    "             fontsize = 30, alpha = 0.2)\n",
    "    \n",
    "    \n",
    "    plt.title('Population Age Counts')\n",
    "\n",
    "    # Make the gif\n",
    "    directory = directory\n",
    "    filename = directory + str(x) + \".png\"\n",
    "    plt.savefig(filename, dpi = 60)\n",
    "    filenames.append(filename)\n",
    "    plt.clf()\n",
    "    \n",
    "    \n",
    "number_of_frames = 15\n",
    "    \n",
    "import imageio\n",
    "with imageio.get_writer(directory + 'Visualizations'  +'.gif', mode='i') as writer:\n",
    "\n",
    "    for filename in filenames:\n",
    "        image = imageio.imread(filename)\n",
    "        for x in range(number_of_frames):\n",
    "            writer.append_data(image)\n",
    "\n",
    "# Remove unnecessary image files pngs\n",
    "import os\n",
    "for filename in set(filenames):\n",
    "    os.remove(filename)"
   ]
  },
  {
   "cell_type": "markdown",
   "metadata": {},
   "source": [
    "# CHECK WORKING DIRECTORY FOR A BEAUTIFUL GIF VISUALIZATION OF POPULATION DISTRIBUTION CHANGING OVER TIME"
   ]
  },
  {
   "cell_type": "code",
   "execution_count": 18,
   "metadata": {},
   "outputs": [
    {
     "data": {
      "text/html": [
       "<div>\n",
       "<style scoped>\n",
       "    .dataframe tbody tr th:only-of-type {\n",
       "        vertical-align: middle;\n",
       "    }\n",
       "\n",
       "    .dataframe tbody tr th {\n",
       "        vertical-align: top;\n",
       "    }\n",
       "\n",
       "    .dataframe thead th {\n",
       "        text-align: right;\n",
       "    }\n",
       "</style>\n",
       "<table border=\"1\" class=\"dataframe\">\n",
       "  <thead>\n",
       "    <tr style=\"text-align: right;\">\n",
       "      <th></th>\n",
       "      <th>Years From Now</th>\n",
       "      <th>Babies Born</th>\n",
       "      <th>Deaths</th>\n",
       "      <th>Retirees</th>\n",
       "      <th>Total Pop</th>\n",
       "    </tr>\n",
       "  </thead>\n",
       "  <tbody>\n",
       "    <tr>\n",
       "      <th>0</th>\n",
       "      <td>0</td>\n",
       "      <td>124</td>\n",
       "      <td>68</td>\n",
       "      <td>1101</td>\n",
       "      <td>10297</td>\n",
       "    </tr>\n",
       "    <tr>\n",
       "      <th>1</th>\n",
       "      <td>1</td>\n",
       "      <td>118</td>\n",
       "      <td>84</td>\n",
       "      <td>1158</td>\n",
       "      <td>10347</td>\n",
       "    </tr>\n",
       "    <tr>\n",
       "      <th>2</th>\n",
       "      <td>2</td>\n",
       "      <td>116</td>\n",
       "      <td>52</td>\n",
       "      <td>1169</td>\n",
       "      <td>10379</td>\n",
       "    </tr>\n",
       "    <tr>\n",
       "      <th>3</th>\n",
       "      <td>3</td>\n",
       "      <td>116</td>\n",
       "      <td>67</td>\n",
       "      <td>1218</td>\n",
       "      <td>10443</td>\n",
       "    </tr>\n",
       "    <tr>\n",
       "      <th>4</th>\n",
       "      <td>4</td>\n",
       "      <td>116</td>\n",
       "      <td>63</td>\n",
       "      <td>1263</td>\n",
       "      <td>10492</td>\n",
       "    </tr>\n",
       "    <tr>\n",
       "      <th>...</th>\n",
       "      <td>...</td>\n",
       "      <td>...</td>\n",
       "      <td>...</td>\n",
       "      <td>...</td>\n",
       "      <td>...</td>\n",
       "    </tr>\n",
       "    <tr>\n",
       "      <th>72</th>\n",
       "      <td>72</td>\n",
       "      <td>86</td>\n",
       "      <td>153</td>\n",
       "      <td>2199</td>\n",
       "      <td>8605</td>\n",
       "    </tr>\n",
       "    <tr>\n",
       "      <th>73</th>\n",
       "      <td>73</td>\n",
       "      <td>86</td>\n",
       "      <td>181</td>\n",
       "      <td>2162</td>\n",
       "      <td>8538</td>\n",
       "    </tr>\n",
       "    <tr>\n",
       "      <th>74</th>\n",
       "      <td>74</td>\n",
       "      <td>86</td>\n",
       "      <td>126</td>\n",
       "      <td>2109</td>\n",
       "      <td>8443</td>\n",
       "    </tr>\n",
       "    <tr>\n",
       "      <th>75</th>\n",
       "      <td>75</td>\n",
       "      <td>86</td>\n",
       "      <td>134</td>\n",
       "      <td>2105</td>\n",
       "      <td>8403</td>\n",
       "    </tr>\n",
       "    <tr>\n",
       "      <th>76</th>\n",
       "      <td>76</td>\n",
       "      <td>84</td>\n",
       "      <td>108</td>\n",
       "      <td>2094</td>\n",
       "      <td>8353</td>\n",
       "    </tr>\n",
       "  </tbody>\n",
       "</table>\n",
       "<p>77 rows × 5 columns</p>\n",
       "</div>"
      ],
      "text/plain": [
       "    Years From Now  Babies Born  Deaths  Retirees  Total Pop\n",
       "0                0          124      68      1101      10297\n",
       "1                1          118      84      1158      10347\n",
       "2                2          116      52      1169      10379\n",
       "3                3          116      67      1218      10443\n",
       "4                4          116      63      1263      10492\n",
       "..             ...          ...     ...       ...        ...\n",
       "72              72           86     153      2199       8605\n",
       "73              73           86     181      2162       8538\n",
       "74              74           86     126      2109       8443\n",
       "75              75           86     134      2105       8403\n",
       "76              76           84     108      2094       8353\n",
       "\n",
       "[77 rows x 5 columns]"
      ]
     },
     "execution_count": 18,
     "metadata": {},
     "output_type": "execute_result"
    }
   ],
   "source": [
    "# Make a df of all the year on year totals for births deaths retirees and total population\n",
    "\n",
    "totals_col_names = ['Years From Now', 'Babies Born', 'Deaths','Retirees', 'Total Pop']\n",
    "totals_df = pd.DataFrame(totals, columns = totals_col_names)\n",
    "# totals_df.set_index('Years From Now', inplace = True)\n",
    "totals_df"
   ]
  },
  {
   "cell_type": "markdown",
   "metadata": {},
   "source": [
    "# Making visuals for the above df"
   ]
  },
  {
   "cell_type": "code",
   "execution_count": 19,
   "metadata": {},
   "outputs": [
    {
     "data": {
      "text/plain": [
       "<matplotlib.legend.Legend at 0x24b7cfcc048>"
      ]
     },
     "execution_count": 19,
     "metadata": {},
     "output_type": "execute_result"
    },
    {
     "data": {
      "image/png": "[encoded data removed]",
      "text/plain": [
       "<Figure size 864x864 with 1 Axes>"
      ]
     },
     "metadata": {},
     "output_type": "display_data"
    }
   ],
   "source": [
    "sns.set(rc={'figure.figsize':(12,12)})\n",
    "\n",
    "# Line plot the data\n",
    "sns.lineplot(data = totals_df, x='Years From Now', y = 'Total Pop', label = 'Total Pop')\n",
    "sns.lineplot(data = totals_df, x='Years From Now', y = 'Retirees', label ='Retirees')\n",
    "\n",
    "# get the max total population MARKER and the year it will be\n",
    "pop_max_pop = totals_df['Total Pop'].max()\n",
    "pop_max_year = totals_df[totals_df['Total Pop'] == totals_df['Total Pop'].max()].iloc[0][0]\n",
    "pop_max_pop_now = totals_df[['Total Pop']].iloc[0][0]\n",
    "plt.text(y=pop_max_pop-1200, x=pop_max_year-14,\n",
    "         s =\"Years: \"+str(pop_max_year)+\"  Pop. Max: \"+str(pop_max_pop),\n",
    "         horizontalalignment='left',\n",
    "         size='large',\n",
    "         color='black',\n",
    "         weight='semibold',\n",
    "         fontsize = 20)       \n",
    "sns.scatterplot(x=[pop_max_year] , y=[pop_max_pop], s = 90)            \n",
    "plt.text(y=pop_max_pop-1650, x=pop_max_year-14,\n",
    "         s =\"Increase from present: \" +  str(pop_max_pop-pop_max_pop_now)   ,\n",
    "         horizontalalignment='left',\n",
    "         size='large',\n",
    "         color='black',\n",
    "         weight='semibold',\n",
    "         fontsize = 20)       \n",
    "plt.text(y=pop_max_pop-2100, x=pop_max_year-14,\n",
    "         s =\"Increase: \" +  str((round((pop_max_pop/pop_max_pop_now)-1, 3)*100)) + \" %\"   ,\n",
    "         horizontalalignment='left',\n",
    "         size='large',\n",
    "         color='black',\n",
    "         weight='semibold',\n",
    "         fontsize = 20) \n",
    "\n",
    "# get the max total reitrees MARKER and the year it will be\n",
    "ret_max_pop = totals_df['Retirees'].max()\n",
    "ret_max_year = totals_df[totals_df['Retirees'] == totals_df['Retirees'].max()].iloc[0][0]\n",
    "ret_max_pop_now = totals_df[['Retirees']].iloc[0][0]\n",
    "plt.text(y=ret_max_pop-1200, x=ret_max_year-14,\n",
    "         s =\"Years: \"+str(ret_max_year)+\"  Pop. Max: \"+str(ret_max_pop),\n",
    "         horizontalalignment='left',\n",
    "         size='large',\n",
    "         color='black',\n",
    "         weight='semibold',\n",
    "         fontsize = 20)       \n",
    "sns.scatterplot(x=[ret_max_year] , y=[ret_max_pop], s = 90)  \n",
    "plt.text(y=ret_max_pop-1650, x=ret_max_year-14,\n",
    "         s =\"Increase from present: \" +  str(ret_max_pop-ret_max_pop_now),\n",
    "         horizontalalignment='left',\n",
    "         size='large',\n",
    "         color='black',\n",
    "         weight='semibold',\n",
    "         fontsize = 20) \n",
    "plt.text(y=ret_max_pop-2100, x=ret_max_year-14,\n",
    "         s=\"Increase: \" +  str((round((ret_max_pop/ret_max_pop_now)-1, 2)*100)) + \" %\"  ,\n",
    "         horizontalalignment='left',\n",
    "         size='large',\n",
    "         color='black',\n",
    "         weight='semibold',\n",
    "         fontsize = 20) \n",
    "\n",
    "plt.ylabel('People')\n",
    "plt.title('Retirees and Total Population Change Over Time')\n",
    "plt.legend()"
   ]
  },
  {
   "cell_type": "markdown",
   "metadata": {},
   "source": [
    "# Plot births and Deaths Over Time\n"
   ]
  },
  {
   "cell_type": "code",
   "execution_count": 20,
   "metadata": {},
   "outputs": [
    {
     "data": {
      "text/plain": [
       "<matplotlib.legend.Legend at 0x24b7c54e8c8>"
      ]
     },
     "execution_count": 20,
     "metadata": {},
     "output_type": "execute_result"
    },
    {
     "data": {
      "image/png": "[encoded data removed]",
      "text/plain": [
       "<Figure size 864x864 with 1 Axes>"
      ]
     },
     "metadata": {},
     "output_type": "display_data"
    }
   ],
   "source": [
    "# Plot births and Deaths Over Time\n",
    "sns.lineplot(data = totals_df, x='Years From Now', y = 'Babies Born', label ='Babies Born' )\n",
    "sns.lineplot(data = totals_df, x='Years From Now', y = 'Deaths', label = 'Deaths')\n",
    "\n",
    "plt.ylabel('People')\n",
    "plt.title('Births and Deaths Over Time')\n",
    "plt.legend()"
   ]
  },
  {
   "cell_type": "markdown",
   "metadata": {},
   "source": [
    "# Same with moving average overlay and maxima and minima labels"
   ]
  },
  {
   "cell_type": "code",
   "execution_count": 21,
   "metadata": {},
   "outputs": [
    {
     "data": {
      "text/plain": [
       "<matplotlib.legend.Legend at 0x24b7c4fc288>"
      ]
     },
     "execution_count": 21,
     "metadata": {},
     "output_type": "execute_result"
    },
    {
     "data": {
      "image/png": "[encoded data removed]",
      "text/plain": [
       "<Figure size 864x864 with 1 Axes>"
      ]
     },
     "metadata": {},
     "output_type": "display_data"
    }
   ],
   "source": [
    "# Adding 5 year moving average to totals column\n",
    "\n",
    "totals_df['5yr_Avg'] = totals_df['Deaths'].rolling(3).mean().shift(-3)\n",
    "\n",
    "# Make the plot of births\n",
    "sns.lineplot(data = totals_df, x='Years From Now', y = 'Babies Born', label ='Babies Born' )\n",
    "#Make the plot of deaths (faded)\n",
    "sns.lineplot(data = totals_df, x='Years From Now', y = 'Deaths', label = 'Deaths', alpha = 0.4)\n",
    "# Make the plot of moving average deaths\n",
    "sns.lineplot(data = totals_df, x='Years From Now', y = '5yr_Avg', label = 'Deaths_5yr_avg')\n",
    "\n",
    "# Labels\n",
    "plt.ylabel('People')\n",
    "plt.title('Births and Deaths Over Time')\n",
    "\n",
    "# get the max total deathrate MARKER and the year it will be\n",
    "pop_max_pop = totals_df['5yr_Avg'].max()\n",
    "pop_max_year = totals_df[totals_df['5yr_Avg'] == totals_df['5yr_Avg'].max()].iloc[0][0]\n",
    "pop_max_pop_now = totals_df[['5yr_Avg']].iloc[0][0]\n",
    "\n",
    "# Add text and peakpoint\n",
    "plt.text(y=pop_max_pop+5, x=pop_max_year-5,\n",
    "         s =\"Years: \"+str(pop_max_year)+\"  DR. Max: \"+str(round(pop_max_pop)),\n",
    "         horizontalalignment='left',\n",
    "         size='large',\n",
    "         color='black',\n",
    "         weight='semibold',\n",
    "         fontsize = 20)       \n",
    "sns.scatterplot(x=[pop_max_year] , y=[pop_max_pop], s = 90)            \n",
    "plt.text(y=pop_max_pop+15, x=pop_max_year-5,\n",
    "         s =\"Increase from present: \" +  str(round(pop_max_pop-pop_max_pop_now)) + \" per year\"  ,\n",
    "         horizontalalignment='left',\n",
    "         size='large',\n",
    "         color='black',\n",
    "         weight='semibold',\n",
    "         fontsize = 20)       \n",
    "plt.text(y=pop_max_pop+10, x=pop_max_year-5,\n",
    "         s =\"Increase: \" +  str((round((pop_max_pop/pop_max_pop_now)-1, 3)*100)) + \" %\"   ,\n",
    "         horizontalalignment='left',\n",
    "         size='large',\n",
    "         color='black',\n",
    "         weight='semibold',\n",
    "         fontsize = 20)\n",
    "\n",
    "\n",
    "# get the min total BR MARKER and the year it will be\n",
    "pop_max_pop = totals_df['Babies Born'].min()\n",
    "pop_max_year = totals_df[totals_df['Babies Born'] == totals_df['Babies Born'].min()].iloc[0][0]\n",
    "pop_max_pop_now = totals_df[['Babies Born']].iloc[0][0]\n",
    "\n",
    "plt.text(y=pop_max_pop+5-30, x=pop_max_year-5-20,\n",
    "         s =\"Years: \"+str(pop_max_year)+\"  BR. Min: \"+str(round(pop_max_pop)),\n",
    "         horizontalalignment='left',\n",
    "         size='large',\n",
    "         color='black',\n",
    "         weight='semibold',\n",
    "         fontsize = 20)       \n",
    "sns.scatterplot(x=[pop_max_year] , y=[pop_max_pop], s = 90)            \n",
    "plt.text(y=pop_max_pop+15-30, x=pop_max_year-5-20,\n",
    "         s =\"Decrease from present: \" +  str(round(pop_max_pop-pop_max_pop_now)) + \" per year\"  ,\n",
    "         horizontalalignment='left',\n",
    "         size='large',\n",
    "         color='black',\n",
    "         weight='semibold',\n",
    "         fontsize = 20)       \n",
    "plt.text(y=pop_max_pop+10-30, x=pop_max_year-5-20,\n",
    "         s =\"Decrease: \" +  str((round((pop_max_pop/pop_max_pop_now)-1, 3)*100)) + \" %\"   ,\n",
    "         horizontalalignment='left',\n",
    "         size='large',\n",
    "         color='black',\n",
    "         weight='semibold',\n",
    "         fontsize = 20)\n",
    "\n",
    "plt.legend()"
   ]
  },
  {
   "cell_type": "code",
   "execution_count": 22,
   "metadata": {},
   "outputs": [],
   "source": [
    "# We only need the age column"
   ]
  }
 ],
 "metadata": {
  "kernelspec": {
   "display_name": "Python 3",
   "language": "python",
   "name": "python3"
  },
  "language_info": {
   "codemirror_mode": {
    "name": "ipython",
    "version": 3
   },
   "file_extension": ".py",
   "mimetype": "text/x-python",
   "name": "python",
   "nbconvert_exporter": "python",
   "pygments_lexer": "ipython3",
   "version": "3.7.7"
  }
 },
 "nbformat": 4,
 "nbformat_minor": 4
}
